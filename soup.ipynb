{
 "cells": [
  {
   "cell_type": "code",
   "execution_count": 1,
   "metadata": {},
   "outputs": [],
   "source": [
    "from bs4 import BeautifulSoup\n",
    "import requests\n"
   ]
  },
  {
   "cell_type": "code",
   "execution_count": 2,
   "metadata": {},
   "outputs": [],
   "source": [
    "url = 'https://nation.africa/kenya'\n",
    "\n",
    "source = requests.get(url)\n",
    "\n",
    "soup = BeautifulSoup(source.content, \"html.parser\")"
   ]
  },
  {
   "cell_type": "code",
   "execution_count": null,
   "metadata": {},
   "outputs": [],
   "source": [
    "teaser = soup.find('li', class_='headline-teasers_item')"
   ]
  },
  {
   "cell_type": "code",
   "execution_count": 8,
   "metadata": {},
   "outputs": [
    {
     "name": "stdout",
     "output_type": "stream",
     "text": [
      "11\n"
     ]
    }
   ],
   "source": [
    "teaser = soup.find_all('li', class_='headline-teasers_item')\n",
    "\n",
    "print(len(teaser));"
   ]
  },
  {
   "cell_type": "code",
   "execution_count": 9,
   "metadata": {},
   "outputs": [],
   "source": [
    "# Find and print the article titles\n",
    "article_titles = soup.find_all(\"h3\", class_=\"jeg_post_title\")\n",
    "for title in article_titles:\n",
    "    print(title.text.strip())\n",
    "\n"
   ]
  },
  {
   "cell_type": "code",
   "execution_count": 4,
   "metadata": {},
   "outputs": [],
   "source": [
    "# Find and print the article summaries\n",
    "article_summaries = soup.find_all(\"div\", class_=\"jeg_post_excerpt\")\n",
    "for summary in article_summaries:\n",
    "    print(summary.text.strip())"
   ]
  },
  {
   "cell_type": "code",
   "execution_count": 46,
   "metadata": {},
   "outputs": [],
   "source": [
    "\n",
    "# Send a GET request to the website\n",
    "smartphones_url = \"https://www.jumia.co.ke/smartphones/\"\n",
    "spirits_liquor = 'https://www.jumia.co.ke/spirits-liquors/'\n",
    "response = requests.get(smartphones_url)\n",
    "\n",
    "# Create a BeautifulSoup object to parse the HTML content\n",
    "soup = BeautifulSoup(response.content, \"html.parser\")\n",
    "\n",
    "# Find and print the smartphone names and prices\n",
    "product_cards = soup.find_all(\"a\", class_=\"core\")"
   ]
  },
  {
   "cell_type": "code",
   "execution_count": 47,
   "metadata": {},
   "outputs": [
    {
     "name": "stdout",
     "output_type": "stream",
     "text": [
      "Smart 7 HD, 6.6\", 2GB RAM, 64GB, 5000mAh, 4G(DUAL SIM) - Jade White\n",
      "Redmi 10A, 6.53\", 4GB+ 128GB, 13MP, 5000mAh, 4G, Dual SIM - Gray\n",
      "SMART 7 HD, 6.6'', 64GB + 2GB (Dual SIM) 5000mAh, BLACK//CLY//\n",
      "Spark 10C , 6.6\" FHD,128GB ROM+4GB RAM ,5000mAh,Meta Black\n",
      "G21, 6.5″, 128GB ROM+ 4GB RAM Dual SIM, 5050 MAh,  Dusk+Smart Watch+Earbuds\n",
      "Smart 7 Plus, 6.6\", 3GB RAM, 64GB, 6000mAh, (DUAL SIM) 4G - Azure Blue\n",
      "Smart 7 Plus 6.6\" HD+, 64GB ROM + 3GB RAM, 6000mAh +  Free Gifts\n",
      "Redmi 12C, 6.71\", 4GB + 128GB, 50MP CAM, 5000mAh, Grey\n",
      "Redmi A1+ (Plus), 6.52\" Display  2 GB + 32 GB 5000mAh (Dual SIM) 4G LTE -  Blue +  Free Gifts\n",
      "Galaxy A04e 32GB ROM 3GB RAM 6.5'' 5000mAh Battery - Black\n",
      "A13S (4GB,64GB ROM) 6.7\" HD+ 5150mAh (16MP+8MP+5MP)+8MP-Starry Black\n",
      "Galaxy A04, 6.5\", 64GB + 4GB RAM (Dual SIM), 50MP, 5000mAh\n",
      "Galaxy A04, Display 6.5\"// 64GB +4GB RAM// Dual SIM// 50MP//5000mAh//Ksly -BLACK\n",
      "Redmi 12C, Display 6.71\"// 4GB RAM + 128GB// 5000mAh//Ksly+BT+O+R+MW -Gray\n",
      "Redmi A1+ (Plus), 6.52\"  2 GB + 32 GB 5000mAh (Dual SIM) 4G LTE -  Blue + Smart Watch & Airpods\n",
      "Smart 7 HD, 6.6\", 2GB RAM, 64GB, 5000mAh, 4G(DUAL SIM) - Ink Black\n",
      "Redmi 12C, 6.71'' ,3GB+64GB, 50MP, 5000mAh, 4G, Dual Sim - Graphite Grey\n",
      "F9,2GB+64GB,6.52\", 13.0MP,4G Smartphone 5000mAh Dual SIM Android Phone,Blue\n",
      "Spark 10C , 6.6\" FHD,128GB ROM+4GB RAM ,5000mAh,Meta Blue\n",
      "F9,2GB+64GB,6.52\" 4G Smartphone,13.0MP 5000mAh, Dual SIM Android Phones,Black\n",
      "Hot 30i, 6.56\", 4GB RAM, 128GB, 5000mAh, (DUAL SIM), 4G -  Mirror Black\n",
      "Smart 7 HD, 6.6\", 2GB RAM, 64GB, 5000mAh, 4G(DUAL SIM) - Jade White\n",
      "Redmi A1+, 6.52\", 2GB+32GB, 8.0MP, 5000mAh, 4G , Dual SIM - Black\n",
      "Camon 20, 6.67\", 256GB + 8GB+8GB Extended RAM, Dual SIM, 5000mAh, Predawn Black\n",
      "Spark 10C , 6.6\" FHD,128GB ROM+8GB RAM ,5000mAh,Meta Black\n",
      "Pop  7 6.6\" HD+, 2GB RAM+64GB, 8MP, 4G (Dual Sim) 5000MAh - Endless Black\n",
      "Hot 30i, 6.56\", 4GB RAM, 128GB, 5000mAh, (DUAL SIM), 4G - Glacier Blue\n",
      "M5,8GB+128GB,6.52\", 50MP,4G Smartphone 5000mAh Dual SIM Android Phone,Black\n",
      "Redmi Note 12, 6.67'' , 4GB+128GB, 50MP, Dual Sim, 33W Fast Charge-Onyx Gray\n",
      "Spark 10C , 6.6\" FHD,128GB ROM+4GB RAM ,5000mAh,Meta Black\n",
      "F9,3GB+128GB,6.52\" 4G Smartphone,13.0MP 5000mAh, Dual SIM Android Phones\n",
      "Redmi A1+, 6.52\", 2GB+32GB, 8.0MP, 5000mAh, 4G , Dual SIM - Light Blue\n",
      "Pop 7 Pro 6.6\" HD+, 3GB+64GB (4G-Dual SIM), 5000mAh -Uyuni Blue\n",
      "Smart 7 HD, 6.6\", 2GB RAM, 64GB, 5000mAh, 4G(DUAL SIM) - Green Apple\n",
      "Spark 10 Pro, 6.8\", 256GB+8GB,(Dual SIM),5000mAh,Pearl White\n",
      "C1 2nd Edition, 5.45\", 1GB +16GB - (DUAL SIM),Android 11, Blue\n",
      "Spark 10C , 6.6\" FHD,128GB ROM+4GB RAM ,5000mAh,Meta Green\n",
      "Redmi Note 12, 6.67'' , 6GB+128GB, 50MP, Dual Sim, 33W Fast Charge-Onyx Gray\n",
      "Spark 10C , 6.6\" FHD,128GB ROM+8GB RAM,5000mAh,Meta Blue\n",
      "Smart 7 Plus, 6.6\", 3GB RAM, 64GB, 6000mAh, (DUAL SIM) 4G - Azure Blue\n",
      "SMART 7 HD, 6.6'', 64GB + 2GB (Dual SIM) 5000mAh, BLACK//CLY//\n",
      "Spark 10C IPS LCD Display 6.6\" (128GB+4GB RAM) Dual SIM 5000mAh, Black\n",
      "Galaxy A04e, 6.5\", 32GB + 3GB RAM (Dual SIM), 5000mAh, Copper\n",
      "Redmi 12C, 6.71\", 4GB + 128GB, 50MP CAM, 5000mAh, Grey + Free Gifts\n",
      "Galaxy A04s, 6.5\", 64 GB + 4 GB RAM (Dual SIM), 50MP,  5000mAh, Black\n",
      "Pop 7 Pro 6.6\" HD+, 3GB+64GB (4G-Dual SIM), 5000mAh- Endless Black\n",
      "Hot 30i, 6.56\", 4GB RAM, 128GB, 5000mAh, (DUAL SIM), 4G -  Diamond White\n",
      "Galaxy A04e 32GB ROM 3GB RAM 6.5'' 5000mAh Battery - Black\n",
      "A57,6.1\" HD,WATERDROP FULLSCREEN,4000MAH(1GB+16GB)ANDROID 11(GO EDITION)\n",
      "Pop  7 6.6\" HD+, 2GB RAM+64GB, 8MP, 4G (Dual Sim) 5000MAh - Capri Blue\n",
      "Spark 10 Pro, 6.8\", 128GB + 8GB, 50MP, Dual SIM, 5000mAh - Pearl White + Smart Watch & Power Bank\n",
      "Galaxy A04e, 6.5\", 64GB + 3GB (Dual SIM), 13MP, BLUE\n",
      "Galaxy A14 4G, 6.6\", 128GB + 4GB RAM (Dual SIM), 5000mAh, Silver\n",
      "A18, Display 5.0\" Display Size(32GB +1GB)(Dual Sim)Battery 2400 MAh\",sply\"\n",
      "150 2.4\" QVGA Display FM 2000 Phonebook Entries\n"
     ]
    },
    {
     "ename": "KeyError",
     "evalue": "'data-brand'",
     "output_type": "error",
     "traceback": [
      "\u001b[0;31m---------------------------------------------------------------------------\u001b[0m",
      "\u001b[0;31mKeyError\u001b[0m                                  Traceback (most recent call last)",
      "Cell \u001b[0;32mIn[47], line 4\u001b[0m\n\u001b[1;32m      1\u001b[0m products \u001b[39m=\u001b[39m []\n\u001b[1;32m      3\u001b[0m \u001b[39mfor\u001b[39;00m card \u001b[39min\u001b[39;00m product_cards:\n\u001b[0;32m----> 4\u001b[0m   brand \u001b[39m=\u001b[39m card[\u001b[39m'\u001b[39;49m\u001b[39mdata-brand\u001b[39;49m\u001b[39m'\u001b[39;49m]\n\u001b[1;32m      5\u001b[0m   name \u001b[39m=\u001b[39m card[\u001b[39m'\u001b[39m\u001b[39mdata-name\u001b[39m\u001b[39m'\u001b[39m]\n\u001b[1;32m      6\u001b[0m   category \u001b[39m=\u001b[39m card[\u001b[39m'\u001b[39m\u001b[39mdata-category\u001b[39m\u001b[39m'\u001b[39m]\n",
      "File \u001b[0;32m/mnt/c/Users/minin/OneDrive/Desktop/Projects/headlineLooker/venv/lib/python3.10/site-packages/bs4/element.py:1573\u001b[0m, in \u001b[0;36mTag.__getitem__\u001b[0;34m(self, key)\u001b[0m\n\u001b[1;32m   1570\u001b[0m \u001b[39mdef\u001b[39;00m \u001b[39m__getitem__\u001b[39m(\u001b[39mself\u001b[39m, key):\n\u001b[1;32m   1571\u001b[0m \u001b[39m    \u001b[39m\u001b[39m\"\"\"tag[key] returns the value of the 'key' attribute for the Tag,\u001b[39;00m\n\u001b[1;32m   1572\u001b[0m \u001b[39m    and throws an exception if it's not there.\"\"\"\u001b[39;00m\n\u001b[0;32m-> 1573\u001b[0m     \u001b[39mreturn\u001b[39;00m \u001b[39mself\u001b[39;49m\u001b[39m.\u001b[39;49mattrs[key]\n",
      "\u001b[0;31mKeyError\u001b[0m: 'data-brand'"
     ]
    }
   ],
   "source": [
    "\n",
    "\n",
    "products = []\n",
    "\n",
    "for card in product_cards:\n",
    "  brand = card['data-brand']\n",
    "  name = card['data-name']\n",
    "  category = card['data-category']\n",
    "  \n",
    "  price = card.find('div', class_='prc')\n",
    "  old_price = card.find('div', class_='old')\n",
    "  discount = card.find('div', class_=['_sm'])\n",
    "  official = card.find('div', class_=['bdg _mall _xs'])\n",
    "  \n",
    "  if brand and name : \n",
    "    price = int(price.text.replace('KSh', '').replace(',', '')) if price else 'N/A'\n",
    "    old_price = int(old_price.text.replace('KSh', '').replace(',', '')) if old_price else 'N/A'\n",
    "    discount = int(discount.text.replace('%', '')) if discount else 'N/A'\n",
    "    official = official.text if official else 'N/A'\n",
    "\n",
    "    product = { 'brand' : brand,\n",
    "                'name': name,\n",
    "                'category': category, \n",
    "                'price': price,\n",
    "                'old_price': old_price,\n",
    "                'discount': discount,\n",
    "                'official_store': official\n",
    "              }\n",
    "    products.append(product)\n",
    "\n",
    "  print(product['name'])"
   ]
  },
  {
   "cell_type": "code",
   "execution_count": null,
   "metadata": {},
   "outputs": [],
   "source": []
  }
 ],
 "metadata": {
  "kernelspec": {
   "display_name": "venv",
   "language": "python",
   "name": "python3"
  },
  "language_info": {
   "codemirror_mode": {
    "name": "ipython",
    "version": 3
   },
   "file_extension": ".py",
   "mimetype": "text/x-python",
   "name": "python",
   "nbconvert_exporter": "python",
   "pygments_lexer": "ipython3",
   "version": "3.10.6"
  },
  "orig_nbformat": 4
 },
 "nbformat": 4,
 "nbformat_minor": 2
}
