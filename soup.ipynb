{
 "cells": [
  {
   "cell_type": "code",
   "execution_count": 1,
   "metadata": {},
   "outputs": [],
   "source": [
    "from bs4 import BeautifulSoup\n",
    "import requests\n"
   ]
  },
  {
   "cell_type": "code",
   "execution_count": 2,
   "metadata": {},
   "outputs": [],
   "source": [
    "url = 'https://nation.africa/kenya'\n",
    "\n",
    "source = requests.get(url)\n",
    "\n",
    "soup = BeautifulSoup(source.content, \"html.parser\")"
   ]
  },
  {
   "cell_type": "code",
   "execution_count": null,
   "metadata": {},
   "outputs": [],
   "source": [
    "teaser = soup.find('li', class_='headline-teasers_item')"
   ]
  },
  {
   "cell_type": "code",
   "execution_count": 8,
   "metadata": {},
   "outputs": [
    {
     "name": "stdout",
     "output_type": "stream",
     "text": [
      "11\n"
     ]
    }
   ],
   "source": [
    "teaser = soup.find_all('li', class_='headline-teasers_item')\n",
    "\n",
    "print(len(teaser));"
   ]
  },
  {
   "cell_type": "code",
   "execution_count": 9,
   "metadata": {},
   "outputs": [],
   "source": [
    "# Find and print the article titles\n",
    "article_titles = soup.find_all(\"h3\", class_=\"jeg_post_title\")\n",
    "for title in article_titles:\n",
    "    print(title.text.strip())\n",
    "\n"
   ]
  },
  {
   "cell_type": "code",
   "execution_count": 4,
   "metadata": {},
   "outputs": [],
   "source": [
    "# Find and print the article summaries\n",
    "article_summaries = soup.find_all(\"div\", class_=\"jeg_post_excerpt\")\n",
    "for summary in article_summaries:\n",
    "    print(summary.text.strip())"
   ]
  },
  {
   "cell_type": "code",
   "execution_count": 42,
   "metadata": {},
   "outputs": [],
   "source": [
    "\n",
    "# Send a GET request to the website\n",
    "smartphones_url = \"https://www.jumia.co.ke/smartphones/\"\n",
    "spirits_liquor = 'https://www.jumia.co.ke/spirits-liquors/'\n",
    "response = requests.get(spirits_liquor)\n",
    "\n",
    "# Create a BeautifulSoup object to parse the HTML content\n",
    "soup = BeautifulSoup(response.content, \"html.parser\")\n",
    "\n",
    "# Find and print the smartphone names and prices\n",
    "product_cards = soup.find_all(\"a\", class_=\"core\")"
   ]
  },
  {
   "cell_type": "code",
   "execution_count": 45,
   "metadata": {},
   "outputs": [
    {
     "name": "stdout",
     "output_type": "stream",
     "text": [
      "Jameson Irish Whiskey - 1 Litre\n",
      "Beefeater London Pink Gin - 750ML\n",
      "Beefeater London Blood Orange Gin - 700ML\n",
      "Chrome Vodka - 750 Ml\n",
      "Absolut Vodka Blue - 750ml\n",
      "Absolut Extrakt Vodka - 750ml\n",
      "Jameson Irish Whiskey - 750 Ml\n",
      "Jameson Irish Whiskey - 1 Litre\n",
      "Beefeater London Pink Gin - 750ML\n",
      "Beefeater London Blood Orange Gin - 700ML\n",
      "Chrome Vodka - 750 Ml\n",
      "Absolut Vodka Blue - 750ml\n",
      "Absolut Extrakt Vodka - 750ml\n",
      "Ballantine's Blended Scotch Whiskey - 750 Ml.\n",
      "Bacardi Spiced 750ml\n",
      "Malibu Carribean Rum With Coconut Liqueur - 700ml\n",
      "Gordon'S Dry Gin - 750cl\n",
      "Bacardi Carta Negra 750ml\n",
      "Martini Rosso 750ml\n",
      "Bacardi Breezer Peach  Six Pack - 275ml\n",
      "Beefeater London Dry Gin - 750ml\n",
      "Absolut Elyx Vodka 1 litre\n",
      "Red Label - 1 Litre\n",
      "Bacardi Breezer Watermelon Six Pack  - 275ml\n",
      "Gordon's Rtd London Dry Gin And Tonic 330ml - Pack Of 6\n",
      "American Malt Blended Whiskey - 750ml\n",
      "Bombay Dry Gin - 750ml\n",
      "Jameson Black Barrel Irish Whiskey - 750ml\n",
      "Captain Morgan Gold Rum - 750ml\n",
      "Bacardi Breezer Pine Apple  Six Pack - 275ml\n",
      "Chrome Gin - 750ml\n",
      "Johnnie Walker Red Label - 750 ML\n",
      "Seagrams Royal Stag Whiskey - 750ml\n",
      "Inverroche Classic Gin - 750ml\n",
      "Martini Bianco 750ml\n",
      "Chivas 12 Year Old Whiskey 750ml\n",
      "Meditterenean Orange 700ml\n",
      "Inverroche Verdant Gin - 750ml\n",
      "Malfy Gin Originale - 750ml\n",
      "Absolut Mango Flavored Vodka - 750ml\n",
      "Tanqueray Blackcurrant Royale - 700ml\n",
      "J & B Scotch Whisky - 750ml\n",
      "Rare Blended Scotch Whisky - 750ml\n",
      "Ballantine 12 Years Old Whisky - 750ml\n",
      "Malfy Gin Con Rosa - 750ml\n",
      "London Dry Gin - 750ml\n"
     ]
    }
   ],
   "source": [
    "\n",
    "\n",
    "products = []\n",
    "\n",
    "for card in product_cards:\n",
    "  brand = card['data-brand']\n",
    "  name = card['data-name']\n",
    "  category = card['data-category']\n",
    "  \n",
    "  price = card.find('div', class_='prc')\n",
    "  old_price = card.find('div', class_='old')\n",
    "  discount = card.find('div', class_=['_sm'])\n",
    "  official = card.find('div', class_=['bdg _mall _xs'])\n",
    "  \n",
    "  if brand and name : \n",
    "    price = int(price.text.replace('KSh', '').replace(',', '')) if price else 'N/A'\n",
    "    old_price = int(old_price.text.replace('KSh', '').replace(',', '')) if old_price else 'N/A'\n",
    "    discount = int(discount.text.replace('%', '')) if discount else 'N/A'\n",
    "    official = official.text if official else 'N/A'\n",
    "\n",
    "    product = { 'brand' : brand,\n",
    "                'name': name,\n",
    "                'category': category, \n",
    "                'price': price,\n",
    "                'old_price': old_price,\n",
    "                'discount': discount,\n",
    "                'official_store': official\n",
    "              }\n",
    "    products.append(product)\n",
    "\n",
    "  print(product['name'])"
   ]
  },
  {
   "cell_type": "code",
   "execution_count": null,
   "metadata": {},
   "outputs": [],
   "source": []
  }
 ],
 "metadata": {
  "kernelspec": {
   "display_name": "venv",
   "language": "python",
   "name": "python3"
  },
  "language_info": {
   "codemirror_mode": {
    "name": "ipython",
    "version": 3
   },
   "file_extension": ".py",
   "mimetype": "text/x-python",
   "name": "python",
   "nbconvert_exporter": "python",
   "pygments_lexer": "ipython3",
   "version": "3.10.6"
  },
  "orig_nbformat": 4
 },
 "nbformat": 4,
 "nbformat_minor": 2
}
